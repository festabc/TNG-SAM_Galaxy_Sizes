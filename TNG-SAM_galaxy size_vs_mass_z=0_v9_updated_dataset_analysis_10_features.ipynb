{
 "cells": [
  {
   "cell_type": "code",
   "execution_count": 1,
   "metadata": {},
   "outputs": [],
   "source": [
    "import time\n",
    "import numpy as np\n",
    "import pandas as pd\n",
    "\n",
    "import matplotlib.pyplot as plt\n",
    "from matplotlib import pyplot\n",
    "import matplotlib.cm as cm\n",
    "import matplotlib.colors as norm\n",
    "from matplotlib.gridspec import SubplotSpec\n",
    "import seaborn as sns\n",
    "\n",
    "from scipy import stats\n",
    "from sklearn.linear_model import LinearRegression\n",
    "from sklearn.ensemble import RandomForestRegressor\n",
    "from sklearn import svm\n",
    "\n",
    "from sklearn.model_selection import train_test_split\n",
    "from sklearn.model_selection import RandomizedSearchCV, GridSearchCV\n",
    "from sklearn.model_selection import cross_validate, KFold, StratifiedKFold\n",
    "from sklearn.model_selection import cross_val_predict\n",
    "from sklearn.model_selection import cross_val_score\n",
    "from sklearn.metrics import r2_score\n",
    "from sklearn.inspection import permutation_importance\n",
    "from sklearn.pipeline import make_pipeline #This allows one to build different steps together\n",
    "\n"
   ]
  },
  {
   "cell_type": "code",
   "execution_count": 2,
   "metadata": {},
   "outputs": [],
   "source": [
    "def log_mass_size(df):\n",
    "    '''\n",
    "    Converts to log10 non-zero size and mass entries (without distinguishing galaxy type)\n",
    "    output: df with new columns of log mass, log size added to it\n",
    "\n",
    "    '''\n",
    "    #first let's remove all galaxy_mass=0 since you are going to at the end anyway\n",
    "    df=df[df['mstar'] > 0]\n",
    "\n",
    "#     #subhalo_flag = subhalos[‘SubhaloFlag’]\n",
    "#     if type_of_galaxy == 'central':\n",
    "#         df=df[df['subhalo_flag']==True]\n",
    "#     elif type_of_galaxy == 'satellite':\n",
    "#         df=df[df['subhalo_flag']==False]\n",
    "#     else: \n",
    "#         print(\"type_of_galaxy must be set to central or satellite\")\n",
    "\n",
    "    #since we got rid of all zero mass we can just take the log10\n",
    "    df.loc[:, 'mstar_log']=np.log10(df.loc[:, 'mstar'])\n",
    "    df.loc[:, 'half_radius_log']=np.log10(df.loc[:, 'half_radius'])\n",
    "    df.loc[:, 'mhalo_log']=np.log10(df.loc[:, 'mhalo'])\n",
    "    df.loc[:, 'Mhot_log']=np.log10(df.loc[:, 'Mhot'])\n",
    "    df.loc[:,'mbulge_log']=df.loc[:,'mbulge'].apply(lambda x: np.log10(x) if x>0 else 0) # because there are 0 values of mbulge\n",
    "    df.loc[:,'SFR_log']=df.loc[:,'sfr'].apply(lambda x: np.log10(x) if x>0 else 0)\n",
    "\n",
    "\n",
    "    return df"
   ]
  },
  {
   "cell_type": "code",
   "execution_count": 3,
   "metadata": {},
   "outputs": [],
   "source": [
    "df=pd.read_hdf('./tng-sam_v2.h5') \n"
   ]
  },
  {
   "cell_type": "code",
   "execution_count": 4,
   "metadata": {},
   "outputs": [
    {
     "data": {
      "text/html": [
       "<div>\n",
       "<style scoped>\n",
       "    .dataframe tbody tr th:only-of-type {\n",
       "        vertical-align: middle;\n",
       "    }\n",
       "\n",
       "    .dataframe tbody tr th {\n",
       "        vertical-align: top;\n",
       "    }\n",
       "\n",
       "    .dataframe thead th {\n",
       "        text-align: right;\n",
       "    }\n",
       "</style>\n",
       "<table border=\"1\" class=\"dataframe\">\n",
       "  <thead>\n",
       "    <tr style=\"text-align: right;\">\n",
       "      <th></th>\n",
       "      <th>mhalo</th>\n",
       "      <th>spin</th>\n",
       "      <th>Cnfw</th>\n",
       "      <th>Mhot</th>\n",
       "      <th>Macc</th>\n",
       "      <th>mstar</th>\n",
       "      <th>mHI</th>\n",
       "      <th>mH2</th>\n",
       "      <th>mbulge</th>\n",
       "      <th>r_bulge</th>\n",
       "      <th>r_disk</th>\n",
       "      <th>sfr</th>\n",
       "      <th>Zcold</th>\n",
       "      <th>Zstar</th>\n",
       "      <th>sat_type</th>\n",
       "    </tr>\n",
       "  </thead>\n",
       "  <tbody>\n",
       "    <tr>\n",
       "      <th>0</th>\n",
       "      <td>8.945970e+08</td>\n",
       "      <td>0.03410</td>\n",
       "      <td>27.518700</td>\n",
       "      <td>1.150910e+08</td>\n",
       "      <td>0.0</td>\n",
       "      <td>1.918680e+04</td>\n",
       "      <td>1443460.0</td>\n",
       "      <td>350.895996</td>\n",
       "      <td>1.705140e+03</td>\n",
       "      <td>1.380600e-07</td>\n",
       "      <td>0.612071</td>\n",
       "      <td>2.099810e-07</td>\n",
       "      <td>6.425340e-06</td>\n",
       "      <td>1.847320e-08</td>\n",
       "      <td>0.0</td>\n",
       "    </tr>\n",
       "    <tr>\n",
       "      <th>1</th>\n",
       "      <td>1.815770e+09</td>\n",
       "      <td>0.04884</td>\n",
       "      <td>25.676800</td>\n",
       "      <td>9.966590e+07</td>\n",
       "      <td>0.0</td>\n",
       "      <td>5.311550e+05</td>\n",
       "      <td>1239300.0</td>\n",
       "      <td>574.640991</td>\n",
       "      <td>9.893530e+04</td>\n",
       "      <td>3.582890e-04</td>\n",
       "      <td>1.109940</td>\n",
       "      <td>3.485530e-07</td>\n",
       "      <td>5.455150e-05</td>\n",
       "      <td>2.259670e-06</td>\n",
       "      <td>0.0</td>\n",
       "    </tr>\n",
       "    <tr>\n",
       "      <th>2</th>\n",
       "      <td>4.880430e+09</td>\n",
       "      <td>0.07510</td>\n",
       "      <td>24.664200</td>\n",
       "      <td>1.409960e+07</td>\n",
       "      <td>0.0</td>\n",
       "      <td>1.461610e+06</td>\n",
       "      <td>51356600.0</td>\n",
       "      <td>120703.000000</td>\n",
       "      <td>2.745250e+05</td>\n",
       "      <td>3.465510e-03</td>\n",
       "      <td>1.129830</td>\n",
       "      <td>7.226970e-05</td>\n",
       "      <td>6.013470e-04</td>\n",
       "      <td>7.569950e-06</td>\n",
       "      <td>0.0</td>\n",
       "    </tr>\n",
       "    <tr>\n",
       "      <th>3</th>\n",
       "      <td>1.860050e+09</td>\n",
       "      <td>0.03953</td>\n",
       "      <td>19.896200</td>\n",
       "      <td>1.573440e+08</td>\n",
       "      <td>0.0</td>\n",
       "      <td>5.375590e+03</td>\n",
       "      <td>3270910.0</td>\n",
       "      <td>381.580017</td>\n",
       "      <td>2.401990e+03</td>\n",
       "      <td>5.426130e-08</td>\n",
       "      <td>0.905608</td>\n",
       "      <td>2.283380e-07</td>\n",
       "      <td>5.815860e-06</td>\n",
       "      <td>2.387450e-09</td>\n",
       "      <td>0.0</td>\n",
       "    </tr>\n",
       "    <tr>\n",
       "      <th>4</th>\n",
       "      <td>1.615000e+09</td>\n",
       "      <td>0.04429</td>\n",
       "      <td>28.457001</td>\n",
       "      <td>1.273490e+08</td>\n",
       "      <td>0.0</td>\n",
       "      <td>1.164560e+04</td>\n",
       "      <td>655190.0</td>\n",
       "      <td>66.861099</td>\n",
       "      <td>0.000000e+00</td>\n",
       "      <td>0.000000e+00</td>\n",
       "      <td>0.967984</td>\n",
       "      <td>4.000970e-08</td>\n",
       "      <td>6.864240e-06</td>\n",
       "      <td>1.009730e-08</td>\n",
       "      <td>0.0</td>\n",
       "    </tr>\n",
       "    <tr>\n",
       "      <th>...</th>\n",
       "      <td>...</td>\n",
       "      <td>...</td>\n",
       "      <td>...</td>\n",
       "      <td>...</td>\n",
       "      <td>...</td>\n",
       "      <td>...</td>\n",
       "      <td>...</td>\n",
       "      <td>...</td>\n",
       "      <td>...</td>\n",
       "      <td>...</td>\n",
       "      <td>...</td>\n",
       "      <td>...</td>\n",
       "      <td>...</td>\n",
       "      <td>...</td>\n",
       "      <td>...</td>\n",
       "    </tr>\n",
       "    <tr>\n",
       "      <th>1924830</th>\n",
       "      <td>8.857400e+08</td>\n",
       "      <td>0.01890</td>\n",
       "      <td>24.130699</td>\n",
       "      <td>9.038510e+07</td>\n",
       "      <td>0.0</td>\n",
       "      <td>1.155000e+03</td>\n",
       "      <td>274128.0</td>\n",
       "      <td>58.854900</td>\n",
       "      <td>4.672700e+01</td>\n",
       "      <td>1.623750e-10</td>\n",
       "      <td>0.357797</td>\n",
       "      <td>3.521890e-08</td>\n",
       "      <td>9.629620e-07</td>\n",
       "      <td>3.182000e-10</td>\n",
       "      <td>0.0</td>\n",
       "    </tr>\n",
       "    <tr>\n",
       "      <th>1924831</th>\n",
       "      <td>9.477410e+08</td>\n",
       "      <td>0.04871</td>\n",
       "      <td>18.530899</td>\n",
       "      <td>9.490910e+07</td>\n",
       "      <td>0.0</td>\n",
       "      <td>0.000000e+00</td>\n",
       "      <td>0.0</td>\n",
       "      <td>0.000000</td>\n",
       "      <td>0.000000e+00</td>\n",
       "      <td>0.000000e+00</td>\n",
       "      <td>0.891291</td>\n",
       "      <td>0.000000e+00</td>\n",
       "      <td>0.000000e+00</td>\n",
       "      <td>0.000000e+00</td>\n",
       "      <td>0.0</td>\n",
       "    </tr>\n",
       "    <tr>\n",
       "      <th>1924832</th>\n",
       "      <td>1.617950e+09</td>\n",
       "      <td>0.03615</td>\n",
       "      <td>34.817600</td>\n",
       "      <td>1.473450e+08</td>\n",
       "      <td>0.0</td>\n",
       "      <td>6.519520e+03</td>\n",
       "      <td>589709.0</td>\n",
       "      <td>66.945503</td>\n",
       "      <td>1.819190e+03</td>\n",
       "      <td>1.039700e-07</td>\n",
       "      <td>0.790560</td>\n",
       "      <td>4.069460e-08</td>\n",
       "      <td>5.339940e-06</td>\n",
       "      <td>3.317030e-09</td>\n",
       "      <td>0.0</td>\n",
       "    </tr>\n",
       "    <tr>\n",
       "      <th>1924833</th>\n",
       "      <td>2.970180e+09</td>\n",
       "      <td>0.01930</td>\n",
       "      <td>15.964400</td>\n",
       "      <td>1.480060e+08</td>\n",
       "      <td>0.0</td>\n",
       "      <td>6.943700e+04</td>\n",
       "      <td>15834101.0</td>\n",
       "      <td>7420.919922</td>\n",
       "      <td>4.825620e+03</td>\n",
       "      <td>4.585310e-07</td>\n",
       "      <td>0.535545</td>\n",
       "      <td>4.442270e-06</td>\n",
       "      <td>3.334850e-05</td>\n",
       "      <td>9.543090e-08</td>\n",
       "      <td>0.0</td>\n",
       "    </tr>\n",
       "    <tr>\n",
       "      <th>1924834</th>\n",
       "      <td>9.515801e+09</td>\n",
       "      <td>0.02237</td>\n",
       "      <td>29.455601</td>\n",
       "      <td>2.906790e+02</td>\n",
       "      <td>0.0</td>\n",
       "      <td>7.617920e+06</td>\n",
       "      <td>36985300.0</td>\n",
       "      <td>322790.000000</td>\n",
       "      <td>2.802730e+06</td>\n",
       "      <td>3.637710e-02</td>\n",
       "      <td>0.883051</td>\n",
       "      <td>1.958880e-04</td>\n",
       "      <td>9.922320e-04</td>\n",
       "      <td>1.002930e-04</td>\n",
       "      <td>0.0</td>\n",
       "    </tr>\n",
       "  </tbody>\n",
       "</table>\n",
       "<p>1924835 rows × 15 columns</p>\n",
       "</div>"
      ],
      "text/plain": [
       "                mhalo     spin       Cnfw          Mhot  Macc         mstar  \\\n",
       "0        8.945970e+08  0.03410  27.518700  1.150910e+08   0.0  1.918680e+04   \n",
       "1        1.815770e+09  0.04884  25.676800  9.966590e+07   0.0  5.311550e+05   \n",
       "2        4.880430e+09  0.07510  24.664200  1.409960e+07   0.0  1.461610e+06   \n",
       "3        1.860050e+09  0.03953  19.896200  1.573440e+08   0.0  5.375590e+03   \n",
       "4        1.615000e+09  0.04429  28.457001  1.273490e+08   0.0  1.164560e+04   \n",
       "...               ...      ...        ...           ...   ...           ...   \n",
       "1924830  8.857400e+08  0.01890  24.130699  9.038510e+07   0.0  1.155000e+03   \n",
       "1924831  9.477410e+08  0.04871  18.530899  9.490910e+07   0.0  0.000000e+00   \n",
       "1924832  1.617950e+09  0.03615  34.817600  1.473450e+08   0.0  6.519520e+03   \n",
       "1924833  2.970180e+09  0.01930  15.964400  1.480060e+08   0.0  6.943700e+04   \n",
       "1924834  9.515801e+09  0.02237  29.455601  2.906790e+02   0.0  7.617920e+06   \n",
       "\n",
       "                mHI            mH2        mbulge       r_bulge    r_disk  \\\n",
       "0         1443460.0     350.895996  1.705140e+03  1.380600e-07  0.612071   \n",
       "1         1239300.0     574.640991  9.893530e+04  3.582890e-04  1.109940   \n",
       "2        51356600.0  120703.000000  2.745250e+05  3.465510e-03  1.129830   \n",
       "3         3270910.0     381.580017  2.401990e+03  5.426130e-08  0.905608   \n",
       "4          655190.0      66.861099  0.000000e+00  0.000000e+00  0.967984   \n",
       "...             ...            ...           ...           ...       ...   \n",
       "1924830    274128.0      58.854900  4.672700e+01  1.623750e-10  0.357797   \n",
       "1924831         0.0       0.000000  0.000000e+00  0.000000e+00  0.891291   \n",
       "1924832    589709.0      66.945503  1.819190e+03  1.039700e-07  0.790560   \n",
       "1924833  15834101.0    7420.919922  4.825620e+03  4.585310e-07  0.535545   \n",
       "1924834  36985300.0  322790.000000  2.802730e+06  3.637710e-02  0.883051   \n",
       "\n",
       "                  sfr         Zcold         Zstar  sat_type  \n",
       "0        2.099810e-07  6.425340e-06  1.847320e-08       0.0  \n",
       "1        3.485530e-07  5.455150e-05  2.259670e-06       0.0  \n",
       "2        7.226970e-05  6.013470e-04  7.569950e-06       0.0  \n",
       "3        2.283380e-07  5.815860e-06  2.387450e-09       0.0  \n",
       "4        4.000970e-08  6.864240e-06  1.009730e-08       0.0  \n",
       "...               ...           ...           ...       ...  \n",
       "1924830  3.521890e-08  9.629620e-07  3.182000e-10       0.0  \n",
       "1924831  0.000000e+00  0.000000e+00  0.000000e+00       0.0  \n",
       "1924832  4.069460e-08  5.339940e-06  3.317030e-09       0.0  \n",
       "1924833  4.442270e-06  3.334850e-05  9.543090e-08       0.0  \n",
       "1924834  1.958880e-04  9.922320e-04  1.002930e-04       0.0  \n",
       "\n",
       "[1924835 rows x 15 columns]"
      ]
     },
     "execution_count": 4,
     "metadata": {},
     "output_type": "execute_result"
    }
   ],
   "source": [
    "df"
   ]
  },
  {
   "cell_type": "code",
   "execution_count": 5,
   "metadata": {},
   "outputs": [
    {
     "data": {
      "text/plain": [
       "(1924835, 15)"
      ]
     },
     "execution_count": 5,
     "metadata": {},
     "output_type": "execute_result"
    }
   ],
   "source": [
    "df.shape"
   ]
  },
  {
   "cell_type": "code",
   "execution_count": 6,
   "metadata": {},
   "outputs": [
    {
     "data": {
      "text/plain": [
       "0.0    1346899\n",
       "1.0     475176\n",
       "2.0      91982\n",
       "3.0      10122\n",
       "4.0        611\n",
       "5.0         45\n",
       "Name: sat_type, dtype: int64"
      ]
     },
     "execution_count": 6,
     "metadata": {},
     "output_type": "execute_result"
    }
   ],
   "source": [
    "df['sat_type'].value_counts() # sat_type=0 corresponds to CENTRAL galaxies; 1,346,899 central galaxies"
   ]
  },
  {
   "cell_type": "markdown",
   "metadata": {},
   "source": [
    "### <font color='blue'> Filter the dataset"
   ]
  },
  {
   "cell_type": "markdown",
   "metadata": {},
   "source": [
    "#### Mass filter\n"
   ]
  },
  {
   "cell_type": "code",
   "execution_count": 7,
   "metadata": {},
   "outputs": [],
   "source": [
    "# remove all galaxies with stellar mass < 1e8\n",
    "df_mass_filtered = df.loc[df.mstar>1e8,:]"
   ]
  },
  {
   "cell_type": "code",
   "execution_count": 8,
   "metadata": {},
   "outputs": [
    {
     "data": {
      "text/plain": [
       "(51906, 15)"
      ]
     },
     "execution_count": 8,
     "metadata": {},
     "output_type": "execute_result"
    }
   ],
   "source": [
    "df_mass_filtered.shape # 51,906 galaxies with stellar mass >1e8"
   ]
  },
  {
   "cell_type": "markdown",
   "metadata": {},
   "source": [
    "#### Type filter (choose centrals only)"
   ]
  },
  {
   "cell_type": "code",
   "execution_count": 9,
   "metadata": {},
   "outputs": [
    {
     "data": {
      "text/plain": [
       "0.0    35390\n",
       "1.0    13686\n",
       "2.0     2540\n",
       "3.0      271\n",
       "4.0       18\n",
       "5.0        1\n",
       "Name: sat_type, dtype: int64"
      ]
     },
     "execution_count": 9,
     "metadata": {},
     "output_type": "execute_result"
    }
   ],
   "source": [
    "df_mass_filtered['sat_type'].value_counts() # 35,390 central galaxies with stellar mass >1e8"
   ]
  },
  {
   "cell_type": "code",
   "execution_count": 10,
   "metadata": {},
   "outputs": [],
   "source": [
    "df_central=df_mass_filtered.loc[df_mass_filtered.sat_type==0,:] # choose only CENTRALs"
   ]
  },
  {
   "cell_type": "code",
   "execution_count": 11,
   "metadata": {},
   "outputs": [
    {
     "data": {
      "text/html": [
       "<div>\n",
       "<style scoped>\n",
       "    .dataframe tbody tr th:only-of-type {\n",
       "        vertical-align: middle;\n",
       "    }\n",
       "\n",
       "    .dataframe tbody tr th {\n",
       "        vertical-align: top;\n",
       "    }\n",
       "\n",
       "    .dataframe thead th {\n",
       "        text-align: right;\n",
       "    }\n",
       "</style>\n",
       "<table border=\"1\" class=\"dataframe\">\n",
       "  <thead>\n",
       "    <tr style=\"text-align: right;\">\n",
       "      <th></th>\n",
       "      <th>mhalo</th>\n",
       "      <th>spin</th>\n",
       "      <th>Cnfw</th>\n",
       "      <th>Mhot</th>\n",
       "      <th>Macc</th>\n",
       "      <th>mstar</th>\n",
       "      <th>mHI</th>\n",
       "      <th>mH2</th>\n",
       "      <th>mbulge</th>\n",
       "      <th>r_bulge</th>\n",
       "      <th>r_disk</th>\n",
       "      <th>sfr</th>\n",
       "      <th>Zcold</th>\n",
       "      <th>Zstar</th>\n",
       "      <th>sat_type</th>\n",
       "    </tr>\n",
       "  </thead>\n",
       "  <tbody>\n",
       "    <tr>\n",
       "      <th>53</th>\n",
       "      <td>4.502510e+09</td>\n",
       "      <td>0.03378</td>\n",
       "      <td>59.129101</td>\n",
       "      <td>9.503960e+09</td>\n",
       "      <td>0.0</td>\n",
       "      <td>1.050790e+08</td>\n",
       "      <td>2.710510e-11</td>\n",
       "      <td>0.0</td>\n",
       "      <td>72604704.0</td>\n",
       "      <td>0.503721</td>\n",
       "      <td>1.03908</td>\n",
       "      <td>0.000402</td>\n",
       "      <td>0.000008</td>\n",
       "      <td>0.004245</td>\n",
       "      <td>0.0</td>\n",
       "    </tr>\n",
       "    <tr>\n",
       "      <th>59</th>\n",
       "      <td>1.285310e+11</td>\n",
       "      <td>0.03407</td>\n",
       "      <td>21.878799</td>\n",
       "      <td>8.516240e+05</td>\n",
       "      <td>0.0</td>\n",
       "      <td>2.136860e+09</td>\n",
       "      <td>4.310100e+08</td>\n",
       "      <td>145516000.0</td>\n",
       "      <td>231256000.0</td>\n",
       "      <td>1.340100</td>\n",
       "      <td>1.44021</td>\n",
       "      <td>0.101277</td>\n",
       "      <td>0.206532</td>\n",
       "      <td>0.485612</td>\n",
       "      <td>0.0</td>\n",
       "    </tr>\n",
       "    <tr>\n",
       "      <th>82</th>\n",
       "      <td>1.171930e+11</td>\n",
       "      <td>0.01407</td>\n",
       "      <td>23.447201</td>\n",
       "      <td>5.588210e+05</td>\n",
       "      <td>0.0</td>\n",
       "      <td>1.583780e+09</td>\n",
       "      <td>3.059520e+08</td>\n",
       "      <td>46185400.0</td>\n",
       "      <td>240634992.0</td>\n",
       "      <td>1.801320</td>\n",
       "      <td>1.82321</td>\n",
       "      <td>0.028763</td>\n",
       "      <td>0.099900</td>\n",
       "      <td>0.308089</td>\n",
       "      <td>0.0</td>\n",
       "    </tr>\n",
       "    <tr>\n",
       "      <th>98</th>\n",
       "      <td>1.705850e+11</td>\n",
       "      <td>0.02229</td>\n",
       "      <td>17.701000</td>\n",
       "      <td>1.107320e+06</td>\n",
       "      <td>0.0</td>\n",
       "      <td>1.241640e+09</td>\n",
       "      <td>5.498750e+08</td>\n",
       "      <td>68248200.0</td>\n",
       "      <td>323452000.0</td>\n",
       "      <td>2.040110</td>\n",
       "      <td>2.30283</td>\n",
       "      <td>0.042378</td>\n",
       "      <td>0.160787</td>\n",
       "      <td>0.204719</td>\n",
       "      <td>0.0</td>\n",
       "    </tr>\n",
       "    <tr>\n",
       "      <th>104</th>\n",
       "      <td>8.294760e+10</td>\n",
       "      <td>0.01128</td>\n",
       "      <td>42.640499</td>\n",
       "      <td>1.935800e+05</td>\n",
       "      <td>0.0</td>\n",
       "      <td>1.432650e+09</td>\n",
       "      <td>1.699390e+08</td>\n",
       "      <td>24481200.0</td>\n",
       "      <td>490328000.0</td>\n",
       "      <td>1.414440</td>\n",
       "      <td>1.62481</td>\n",
       "      <td>0.015081</td>\n",
       "      <td>0.061155</td>\n",
       "      <td>0.310911</td>\n",
       "      <td>0.0</td>\n",
       "    </tr>\n",
       "    <tr>\n",
       "      <th>...</th>\n",
       "      <td>...</td>\n",
       "      <td>...</td>\n",
       "      <td>...</td>\n",
       "      <td>...</td>\n",
       "      <td>...</td>\n",
       "      <td>...</td>\n",
       "      <td>...</td>\n",
       "      <td>...</td>\n",
       "      <td>...</td>\n",
       "      <td>...</td>\n",
       "      <td>...</td>\n",
       "      <td>...</td>\n",
       "      <td>...</td>\n",
       "      <td>...</td>\n",
       "      <td>...</td>\n",
       "    </tr>\n",
       "    <tr>\n",
       "      <th>1918905</th>\n",
       "      <td>5.192210e+10</td>\n",
       "      <td>0.03800</td>\n",
       "      <td>24.981800</td>\n",
       "      <td>3.574300e+04</td>\n",
       "      <td>0.0</td>\n",
       "      <td>1.312080e+08</td>\n",
       "      <td>2.422220e+08</td>\n",
       "      <td>7387440.0</td>\n",
       "      <td>7870290.5</td>\n",
       "      <td>0.861413</td>\n",
       "      <td>2.64082</td>\n",
       "      <td>0.004443</td>\n",
       "      <td>0.028542</td>\n",
       "      <td>0.007200</td>\n",
       "      <td>0.0</td>\n",
       "    </tr>\n",
       "    <tr>\n",
       "      <th>1918910</th>\n",
       "      <td>5.454680e+10</td>\n",
       "      <td>0.04917</td>\n",
       "      <td>16.239500</td>\n",
       "      <td>4.573560e+08</td>\n",
       "      <td>0.0</td>\n",
       "      <td>1.234320e+08</td>\n",
       "      <td>2.204080e+08</td>\n",
       "      <td>4975330.0</td>\n",
       "      <td>10646200.0</td>\n",
       "      <td>1.976380</td>\n",
       "      <td>3.47372</td>\n",
       "      <td>0.002984</td>\n",
       "      <td>0.036281</td>\n",
       "      <td>0.005770</td>\n",
       "      <td>0.0</td>\n",
       "    </tr>\n",
       "    <tr>\n",
       "      <th>1918945</th>\n",
       "      <td>5.175670e+10</td>\n",
       "      <td>0.03464</td>\n",
       "      <td>20.015400</td>\n",
       "      <td>1.392480e+08</td>\n",
       "      <td>0.0</td>\n",
       "      <td>1.227350e+08</td>\n",
       "      <td>4.174370e+08</td>\n",
       "      <td>75087504.0</td>\n",
       "      <td>20440200.0</td>\n",
       "      <td>0.553882</td>\n",
       "      <td>1.15671</td>\n",
       "      <td>0.051229</td>\n",
       "      <td>0.026656</td>\n",
       "      <td>0.006112</td>\n",
       "      <td>0.0</td>\n",
       "    </tr>\n",
       "    <tr>\n",
       "      <th>1918947</th>\n",
       "      <td>5.431060e+10</td>\n",
       "      <td>0.04613</td>\n",
       "      <td>20.577600</td>\n",
       "      <td>2.903790e+07</td>\n",
       "      <td>0.0</td>\n",
       "      <td>1.518140e+08</td>\n",
       "      <td>4.901590e+08</td>\n",
       "      <td>39315300.0</td>\n",
       "      <td>17960600.0</td>\n",
       "      <td>0.168341</td>\n",
       "      <td>1.62632</td>\n",
       "      <td>0.024660</td>\n",
       "      <td>0.041628</td>\n",
       "      <td>0.009348</td>\n",
       "      <td>0.0</td>\n",
       "    </tr>\n",
       "    <tr>\n",
       "      <th>1918957</th>\n",
       "      <td>5.277530e+10</td>\n",
       "      <td>0.00996</td>\n",
       "      <td>21.076000</td>\n",
       "      <td>5.951930e+04</td>\n",
       "      <td>0.0</td>\n",
       "      <td>1.396200e+08</td>\n",
       "      <td>1.204050e+08</td>\n",
       "      <td>6583900.0</td>\n",
       "      <td>23246000.0</td>\n",
       "      <td>0.783071</td>\n",
       "      <td>1.39748</td>\n",
       "      <td>0.003992</td>\n",
       "      <td>0.011763</td>\n",
       "      <td>0.007928</td>\n",
       "      <td>0.0</td>\n",
       "    </tr>\n",
       "  </tbody>\n",
       "</table>\n",
       "<p>35390 rows × 15 columns</p>\n",
       "</div>"
      ],
      "text/plain": [
       "                mhalo     spin       Cnfw          Mhot  Macc         mstar  \\\n",
       "53       4.502510e+09  0.03378  59.129101  9.503960e+09   0.0  1.050790e+08   \n",
       "59       1.285310e+11  0.03407  21.878799  8.516240e+05   0.0  2.136860e+09   \n",
       "82       1.171930e+11  0.01407  23.447201  5.588210e+05   0.0  1.583780e+09   \n",
       "98       1.705850e+11  0.02229  17.701000  1.107320e+06   0.0  1.241640e+09   \n",
       "104      8.294760e+10  0.01128  42.640499  1.935800e+05   0.0  1.432650e+09   \n",
       "...               ...      ...        ...           ...   ...           ...   \n",
       "1918905  5.192210e+10  0.03800  24.981800  3.574300e+04   0.0  1.312080e+08   \n",
       "1918910  5.454680e+10  0.04917  16.239500  4.573560e+08   0.0  1.234320e+08   \n",
       "1918945  5.175670e+10  0.03464  20.015400  1.392480e+08   0.0  1.227350e+08   \n",
       "1918947  5.431060e+10  0.04613  20.577600  2.903790e+07   0.0  1.518140e+08   \n",
       "1918957  5.277530e+10  0.00996  21.076000  5.951930e+04   0.0  1.396200e+08   \n",
       "\n",
       "                  mHI          mH2       mbulge   r_bulge   r_disk       sfr  \\\n",
       "53       2.710510e-11          0.0   72604704.0  0.503721  1.03908  0.000402   \n",
       "59       4.310100e+08  145516000.0  231256000.0  1.340100  1.44021  0.101277   \n",
       "82       3.059520e+08   46185400.0  240634992.0  1.801320  1.82321  0.028763   \n",
       "98       5.498750e+08   68248200.0  323452000.0  2.040110  2.30283  0.042378   \n",
       "104      1.699390e+08   24481200.0  490328000.0  1.414440  1.62481  0.015081   \n",
       "...               ...          ...          ...       ...      ...       ...   \n",
       "1918905  2.422220e+08    7387440.0    7870290.5  0.861413  2.64082  0.004443   \n",
       "1918910  2.204080e+08    4975330.0   10646200.0  1.976380  3.47372  0.002984   \n",
       "1918945  4.174370e+08   75087504.0   20440200.0  0.553882  1.15671  0.051229   \n",
       "1918947  4.901590e+08   39315300.0   17960600.0  0.168341  1.62632  0.024660   \n",
       "1918957  1.204050e+08    6583900.0   23246000.0  0.783071  1.39748  0.003992   \n",
       "\n",
       "            Zcold     Zstar  sat_type  \n",
       "53       0.000008  0.004245       0.0  \n",
       "59       0.206532  0.485612       0.0  \n",
       "82       0.099900  0.308089       0.0  \n",
       "98       0.160787  0.204719       0.0  \n",
       "104      0.061155  0.310911       0.0  \n",
       "...           ...       ...       ...  \n",
       "1918905  0.028542  0.007200       0.0  \n",
       "1918910  0.036281  0.005770       0.0  \n",
       "1918945  0.026656  0.006112       0.0  \n",
       "1918947  0.041628  0.009348       0.0  \n",
       "1918957  0.011763  0.007928       0.0  \n",
       "\n",
       "[35390 rows x 15 columns]"
      ]
     },
     "execution_count": 11,
     "metadata": {},
     "output_type": "execute_result"
    }
   ],
   "source": [
    "df_central"
   ]
  },
  {
   "cell_type": "code",
   "execution_count": 12,
   "metadata": {},
   "outputs": [
    {
     "data": {
      "text/plain": [
       "0.0    35390\n",
       "Name: sat_type, dtype: int64"
      ]
     },
     "execution_count": 12,
     "metadata": {},
     "output_type": "execute_result"
    }
   ],
   "source": [
    "df_central['sat_type'].value_counts()"
   ]
  },
  {
   "cell_type": "code",
   "execution_count": 13,
   "metadata": {},
   "outputs": [
    {
     "data": {
      "text/plain": [
       "11.960914"
      ]
     },
     "execution_count": 13,
     "metadata": {},
     "output_type": "execute_result"
    }
   ],
   "source": [
    "np.log10(df_central['mstar'].max())"
   ]
  },
  {
   "cell_type": "code",
   "execution_count": 14,
   "metadata": {},
   "outputs": [
    {
     "data": {
      "text/plain": [
       "14.686748"
      ]
     },
     "execution_count": 14,
     "metadata": {},
     "output_type": "execute_result"
    }
   ],
   "source": [
    "np.log10(df_central['mhalo'].max())"
   ]
  },
  {
   "cell_type": "markdown",
   "metadata": {},
   "source": [
    "### <font color='blue'> Add half_radius by applying half_mass_radius function to each row\n"
   ]
  },
  {
   "cell_type": "code",
   "execution_count": 15,
   "metadata": {},
   "outputs": [],
   "source": [
    "# import numpy as np\n",
    "import matplotlib.pyplot as plt\n",
    "import galsim #install with conda install -c conda_forge galsim\n",
    "\n",
    "def half_mass_radius(mstar,mbulge,r_disk,r_bulge,tol=1.e-6,figure=False):\n",
    "    '''calculate half mass radius for disk(n=1)+bulge(n=4) galaxy\n",
    "    using bisection'''\n",
    "    \n",
    "    Md=mstar-mbulge # disk mass=stellar mass - bulge mass\n",
    "    Rd=r_disk # disk radius\n",
    "    Mb=mbulge # bulge mass\n",
    "    Rb=r_bulge # bulge radius\n",
    "    \n",
    "    disk_fraction=Md/(Md+Mb)\n",
    "    bulge_fraction=Mb/(Md+Mb)\n",
    "    if bulge_fraction==0:\n",
    "        disk=galsim.Sersic(scale_radius=Rd,n=1)  \n",
    "        return disk.half_light_radius     \n",
    "    if disk_fraction==0:\n",
    "        return Rb\n",
    "    disk=galsim.Sersic(scale_radius=Rd,n=1)\n",
    "    bulge=galsim.Sersic(half_light_radius=Rb,n=4)\n",
    "    #starting points for bisection\n",
    "    a=bulge.half_light_radius\n",
    "    b=disk.half_light_radius\n",
    "    if b < a:\n",
    "        a=disk.half_light_radius\n",
    "        b=bulge.half_light_radius\n",
    "\n",
    "    #bisection\n",
    "    Ma=disk_fraction*disk.calculateIntegratedFlux(a)+bulge_fraction*bulge.calculateIntegratedFlux(a)\n",
    "    Mb=disk_fraction*disk.calculateIntegratedFlux(b)+bulge_fraction*bulge.calculateIntegratedFlux(b)\n",
    "    if np.sign(Ma-0.5)==np.sign(Mb-0.5):\n",
    "        raise Exception(\"a and b do not bound a root\")\n",
    "    while(b-a > tol):\n",
    "        m=0.5*(a+b)\n",
    "        f=(disk_fraction*disk.calculateIntegratedFlux(m)+\n",
    "            bulge_fraction*bulge.calculateIntegratedFlux(m))-0.5\n",
    "        if np.sign(f)==1:\n",
    "            b=m\n",
    "        else:\n",
    "            a=m\n",
    "    half_radius=0.5*(a+b)\n",
    "    if figure:\n",
    "        half=np.array([0.45,0.55]) #used for half marks\n",
    "        R=np.arange(0,3*b,0.02)\n",
    "        N=len(R)\n",
    "        yd=np.zeros(N)\n",
    "        yb=np.zeros(N)\n",
    "        for i in range(N):\n",
    "            yd[i]=disk_fraction*disk.calculateIntegratedFlux(R[i])\n",
    "            yb[i]=bulge_fraction*bulge.calculateIntegratedFlux(R[i])\n",
    "        plt.plot(R,yd,color='b',label='disk')\n",
    "        plt.plot(R,yb,color='r',label='bulge')\n",
    "        plt.plot(R,yd+yb,color='k',label='total')\n",
    "        plt.plot([bulge.half_light_radius,bulge.half_light_radius],bulge_fraction*half,color='g')\n",
    "        plt.plot([disk.half_light_radius,disk.half_light_radius],disk_fraction*half,color='g')\n",
    "        plt.plot([half_radius,half_radius],half,color='g')\n",
    "        plt.xlim([0,3*b])\n",
    "        plt.ylim([0,1.0])\n",
    "        plt.legend()\n",
    "        plt.show()\n",
    "    return half_radius\n",
    "\n",
    "# if __name__=='__main__':\n",
    "#     print(half_mass_radius(1.e10,3.5,0.e9,0.0,figure=True))"
   ]
  },
  {
   "cell_type": "code",
   "execution_count": 17,
   "metadata": {},
   "outputs": [
    {
     "data": {
      "text/plain": [
       "mhalo       6.778860e+10\n",
       "spin        2.908000e-02\n",
       "Cnfw        8.621200e+00\n",
       "Mhot        2.139400e+07\n",
       "Macc        0.000000e+00\n",
       "mstar       1.449540e+09\n",
       "mHI         0.000000e+00\n",
       "mH2         0.000000e+00\n",
       "mbulge      1.439710e+09\n",
       "r_bulge     3.956790e-01\n",
       "r_disk      2.208780e+00\n",
       "sfr         6.302250e-02\n",
       "Zcold       1.938820e-03\n",
       "Zstar       1.716930e+00\n",
       "sat_type    0.000000e+00\n",
       "Name: 2093, dtype: float32"
      ]
     },
     "execution_count": 17,
     "metadata": {},
     "output_type": "execute_result"
    }
   ],
   "source": [
    "df_central.iloc[101,:]"
   ]
  },
  {
   "cell_type": "code",
   "execution_count": 18,
   "metadata": {},
   "outputs": [
    {
     "name": "stderr",
     "output_type": "stream",
     "text": [
      "/Users/festabu/miniforge3/envs/native/lib/python3.9/site-packages/pandas/core/indexing.py:1597: SettingWithCopyWarning: \n",
      "A value is trying to be set on a copy of a slice from a DataFrame.\n",
      "Try using .loc[row_indexer,col_indexer] = value instead\n",
      "\n",
      "See the caveats in the documentation: https://pandas.pydata.org/pandas-docs/stable/user_guide/indexing.html#returning-a-view-versus-a-copy\n",
      "  self.obj[key] = value\n",
      "/Users/festabu/miniforge3/envs/native/lib/python3.9/site-packages/pandas/core/indexing.py:1676: SettingWithCopyWarning: \n",
      "A value is trying to be set on a copy of a slice from a DataFrame.\n",
      "Try using .loc[row_indexer,col_indexer] = value instead\n",
      "\n",
      "See the caveats in the documentation: https://pandas.pydata.org/pandas-docs/stable/user_guide/indexing.html#returning-a-view-versus-a-copy\n",
      "  self._setitem_single_column(ilocs[0], value, pi)\n"
     ]
    }
   ],
   "source": [
    "#for i,row in df_central.iterrows():\n",
    "df_central.loc[:,'half_radius'] = df_central.apply(lambda x: half_mass_radius(mstar=x['mstar'],mbulge=x['mbulge'],r_disk=x['r_disk'],r_bulge=x['r_bulge'],tol=1.e-6,figure=False), axis=1)"
   ]
  },
  {
   "cell_type": "code",
   "execution_count": 19,
   "metadata": {},
   "outputs": [
    {
     "data": {
      "text/plain": [
       "(35390, 16)"
      ]
     },
     "execution_count": 19,
     "metadata": {},
     "output_type": "execute_result"
    }
   ],
   "source": [
    "df_central.shape"
   ]
  },
  {
   "cell_type": "code",
   "execution_count": 20,
   "metadata": {},
   "outputs": [
    {
     "data": {
      "text/plain": [
       "53         0.829693\n",
       "59         2.332662\n",
       "82         2.922134\n",
       "98         3.491710\n",
       "104        2.360157\n",
       "             ...   \n",
       "1918905    4.229993\n",
       "1918910    5.548773\n",
       "1918945    1.729907\n",
       "1918947    2.406906\n",
       "1918957    2.117134\n",
       "Name: half_radius, Length: 35390, dtype: float64"
      ]
     },
     "execution_count": 20,
     "metadata": {},
     "output_type": "execute_result"
    }
   ],
   "source": [
    "df_central['half_radius']"
   ]
  },
  {
   "cell_type": "code",
   "execution_count": 21,
   "metadata": {},
   "outputs": [],
   "source": [
    "# solution of the same problem using a for loop over the df rows\n",
    "lst = []\n",
    "for i,row in df_central.iterrows():\n",
    "    result_iter = half_mass_radius(mstar=row['mstar'],mbulge=row['mbulge'],r_disk=row['r_disk'],r_bulge=row['r_bulge'],tol=1.e-6,figure=False)\n",
    "    lst.append(result_iter)\n",
    "    if i>100:\n",
    "        break\n",
    "               "
   ]
  },
  {
   "cell_type": "code",
   "execution_count": 22,
   "metadata": {},
   "outputs": [
    {
     "data": {
      "text/plain": [
       "[0.8296922716638879,\n",
       " 2.3326619620962354,\n",
       " 2.922134029718011,\n",
       " 3.4917102387445444,\n",
       " 2.3601561747952067]"
      ]
     },
     "execution_count": 22,
     "metadata": {},
     "output_type": "execute_result"
    }
   ],
   "source": [
    "lst"
   ]
  },
  {
   "cell_type": "markdown",
   "metadata": {},
   "source": [
    "### <font color='blue'> Logarithmic scale of stellar mass, SFR, Mhalo"
   ]
  },
  {
   "cell_type": "code",
   "execution_count": 24,
   "metadata": {},
   "outputs": [
    {
     "data": {
      "text/html": [
       "<div>\n",
       "<style scoped>\n",
       "    .dataframe tbody tr th:only-of-type {\n",
       "        vertical-align: middle;\n",
       "    }\n",
       "\n",
       "    .dataframe tbody tr th {\n",
       "        vertical-align: top;\n",
       "    }\n",
       "\n",
       "    .dataframe thead th {\n",
       "        text-align: right;\n",
       "    }\n",
       "</style>\n",
       "<table border=\"1\" class=\"dataframe\">\n",
       "  <thead>\n",
       "    <tr style=\"text-align: right;\">\n",
       "      <th></th>\n",
       "      <th>mhalo</th>\n",
       "      <th>spin</th>\n",
       "      <th>Cnfw</th>\n",
       "      <th>Mhot</th>\n",
       "      <th>Macc</th>\n",
       "      <th>mstar</th>\n",
       "      <th>mHI</th>\n",
       "      <th>mH2</th>\n",
       "      <th>mbulge</th>\n",
       "      <th>r_bulge</th>\n",
       "      <th>r_disk</th>\n",
       "      <th>sfr</th>\n",
       "      <th>Zcold</th>\n",
       "      <th>Zstar</th>\n",
       "      <th>sat_type</th>\n",
       "      <th>half_radius</th>\n",
       "    </tr>\n",
       "  </thead>\n",
       "  <tbody>\n",
       "    <tr>\n",
       "      <th>53</th>\n",
       "      <td>4.502510e+09</td>\n",
       "      <td>0.03378</td>\n",
       "      <td>59.129101</td>\n",
       "      <td>9.503960e+09</td>\n",
       "      <td>0.0</td>\n",
       "      <td>1.050790e+08</td>\n",
       "      <td>2.710510e-11</td>\n",
       "      <td>0.0</td>\n",
       "      <td>72604704.0</td>\n",
       "      <td>0.503721</td>\n",
       "      <td>1.03908</td>\n",
       "      <td>0.000402</td>\n",
       "      <td>0.000008</td>\n",
       "      <td>0.004245</td>\n",
       "      <td>0.0</td>\n",
       "      <td>0.829693</td>\n",
       "    </tr>\n",
       "    <tr>\n",
       "      <th>59</th>\n",
       "      <td>1.285310e+11</td>\n",
       "      <td>0.03407</td>\n",
       "      <td>21.878799</td>\n",
       "      <td>8.516240e+05</td>\n",
       "      <td>0.0</td>\n",
       "      <td>2.136860e+09</td>\n",
       "      <td>4.310100e+08</td>\n",
       "      <td>145516000.0</td>\n",
       "      <td>231256000.0</td>\n",
       "      <td>1.340100</td>\n",
       "      <td>1.44021</td>\n",
       "      <td>0.101277</td>\n",
       "      <td>0.206532</td>\n",
       "      <td>0.485612</td>\n",
       "      <td>0.0</td>\n",
       "      <td>2.332662</td>\n",
       "    </tr>\n",
       "  </tbody>\n",
       "</table>\n",
       "</div>"
      ],
      "text/plain": [
       "           mhalo     spin       Cnfw          Mhot  Macc         mstar  \\\n",
       "53  4.502510e+09  0.03378  59.129101  9.503960e+09   0.0  1.050790e+08   \n",
       "59  1.285310e+11  0.03407  21.878799  8.516240e+05   0.0  2.136860e+09   \n",
       "\n",
       "             mHI          mH2       mbulge   r_bulge   r_disk       sfr  \\\n",
       "53  2.710510e-11          0.0   72604704.0  0.503721  1.03908  0.000402   \n",
       "59  4.310100e+08  145516000.0  231256000.0  1.340100  1.44021  0.101277   \n",
       "\n",
       "       Zcold     Zstar  sat_type  half_radius  \n",
       "53  0.000008  0.004245       0.0     0.829693  \n",
       "59  0.206532  0.485612       0.0     2.332662  "
      ]
     },
     "execution_count": 24,
     "metadata": {},
     "output_type": "execute_result"
    }
   ],
   "source": [
    "df_central.head(2)"
   ]
  },
  {
   "cell_type": "code",
   "execution_count": 25,
   "metadata": {},
   "outputs": [],
   "source": [
    "df_central_log=log_mass_size(df_central)"
   ]
  },
  {
   "cell_type": "code",
   "execution_count": 28,
   "metadata": {},
   "outputs": [
    {
     "data": {
      "text/html": [
       "<div>\n",
       "<style scoped>\n",
       "    .dataframe tbody tr th:only-of-type {\n",
       "        vertical-align: middle;\n",
       "    }\n",
       "\n",
       "    .dataframe tbody tr th {\n",
       "        vertical-align: top;\n",
       "    }\n",
       "\n",
       "    .dataframe thead th {\n",
       "        text-align: right;\n",
       "    }\n",
       "</style>\n",
       "<table border=\"1\" class=\"dataframe\">\n",
       "  <thead>\n",
       "    <tr style=\"text-align: right;\">\n",
       "      <th></th>\n",
       "      <th>mhalo</th>\n",
       "      <th>spin</th>\n",
       "      <th>Cnfw</th>\n",
       "      <th>Mhot</th>\n",
       "      <th>Macc</th>\n",
       "      <th>mstar</th>\n",
       "      <th>mHI</th>\n",
       "      <th>mH2</th>\n",
       "      <th>mbulge</th>\n",
       "      <th>r_bulge</th>\n",
       "      <th>...</th>\n",
       "      <th>Zcold</th>\n",
       "      <th>Zstar</th>\n",
       "      <th>sat_type</th>\n",
       "      <th>half_radius</th>\n",
       "      <th>mstar_log</th>\n",
       "      <th>half_radius_log</th>\n",
       "      <th>mhalo_log</th>\n",
       "      <th>Mhot_log</th>\n",
       "      <th>mbulge_log</th>\n",
       "      <th>SFR_log</th>\n",
       "    </tr>\n",
       "  </thead>\n",
       "  <tbody>\n",
       "    <tr>\n",
       "      <th>53</th>\n",
       "      <td>4.502510e+09</td>\n",
       "      <td>0.03378</td>\n",
       "      <td>59.129101</td>\n",
       "      <td>9.503960e+09</td>\n",
       "      <td>0.0</td>\n",
       "      <td>1.050790e+08</td>\n",
       "      <td>2.710510e-11</td>\n",
       "      <td>0.0</td>\n",
       "      <td>72604704.0</td>\n",
       "      <td>0.503721</td>\n",
       "      <td>...</td>\n",
       "      <td>0.000008</td>\n",
       "      <td>0.004245</td>\n",
       "      <td>0.0</td>\n",
       "      <td>0.829693</td>\n",
       "      <td>8.021516</td>\n",
       "      <td>-0.081083</td>\n",
       "      <td>9.653455</td>\n",
       "      <td>9.977904</td>\n",
       "      <td>7.860965</td>\n",
       "      <td>-3.395986</td>\n",
       "    </tr>\n",
       "    <tr>\n",
       "      <th>59</th>\n",
       "      <td>1.285310e+11</td>\n",
       "      <td>0.03407</td>\n",
       "      <td>21.878799</td>\n",
       "      <td>8.516240e+05</td>\n",
       "      <td>0.0</td>\n",
       "      <td>2.136860e+09</td>\n",
       "      <td>4.310100e+08</td>\n",
       "      <td>145516000.0</td>\n",
       "      <td>231256000.0</td>\n",
       "      <td>1.340100</td>\n",
       "      <td>...</td>\n",
       "      <td>0.206532</td>\n",
       "      <td>0.485612</td>\n",
       "      <td>0.0</td>\n",
       "      <td>2.332662</td>\n",
       "      <td>9.329776</td>\n",
       "      <td>0.367852</td>\n",
       "      <td>11.109008</td>\n",
       "      <td>5.930248</td>\n",
       "      <td>8.364093</td>\n",
       "      <td>-0.994489</td>\n",
       "    </tr>\n",
       "  </tbody>\n",
       "</table>\n",
       "<p>2 rows × 22 columns</p>\n",
       "</div>"
      ],
      "text/plain": [
       "           mhalo     spin       Cnfw          Mhot  Macc         mstar  \\\n",
       "53  4.502510e+09  0.03378  59.129101  9.503960e+09   0.0  1.050790e+08   \n",
       "59  1.285310e+11  0.03407  21.878799  8.516240e+05   0.0  2.136860e+09   \n",
       "\n",
       "             mHI          mH2       mbulge   r_bulge  ...     Zcold     Zstar  \\\n",
       "53  2.710510e-11          0.0   72604704.0  0.503721  ...  0.000008  0.004245   \n",
       "59  4.310100e+08  145516000.0  231256000.0  1.340100  ...  0.206532  0.485612   \n",
       "\n",
       "    sat_type  half_radius  mstar_log  half_radius_log  mhalo_log  Mhot_log  \\\n",
       "53       0.0     0.829693   8.021516        -0.081083   9.653455  9.977904   \n",
       "59       0.0     2.332662   9.329776         0.367852  11.109008  5.930248   \n",
       "\n",
       "    mbulge_log   SFR_log  \n",
       "53    7.860965 -3.395986  \n",
       "59    8.364093 -0.994489  \n",
       "\n",
       "[2 rows x 22 columns]"
      ]
     },
     "execution_count": 28,
     "metadata": {},
     "output_type": "execute_result"
    }
   ],
   "source": [
    "df_central_log.head(2)"
   ]
  },
  {
   "cell_type": "code",
   "execution_count": 29,
   "metadata": {},
   "outputs": [
    {
     "data": {
      "text/plain": [
       "11.92681558852368"
      ]
     },
     "execution_count": 29,
     "metadata": {},
     "output_type": "execute_result"
    }
   ],
   "source": [
    "df_central_log['mbulge_log'].max()"
   ]
  },
  {
   "cell_type": "code",
   "execution_count": 30,
   "metadata": {},
   "outputs": [
    {
     "data": {
      "text/plain": [
       "0.0"
      ]
     },
     "execution_count": 30,
     "metadata": {},
     "output_type": "execute_result"
    }
   ],
   "source": [
    "df_central_log['mbulge_log'].min()"
   ]
  },
  {
   "cell_type": "markdown",
   "metadata": {},
   "source": [
    "### Gas fraction\n"
   ]
  },
  {
   "cell_type": "code",
   "execution_count": 31,
   "metadata": {},
   "outputs": [],
   "source": [
    "df_central_log['neutral_H_mass']=(df_central_log['mHI']+df_central_log['mH2'])\n",
    "df_central_log['baryon_mass']=df_central_log['neutral_H_mass']+df_central_log['mstar']\n",
    "df_central_log['gas_fraction']=df_central_log['neutral_H_mass']/df_central_log['baryon_mass']"
   ]
  },
  {
   "cell_type": "code",
   "execution_count": 32,
   "metadata": {},
   "outputs": [
    {
     "data": {
      "text/plain": [
       "(35390, 25)"
      ]
     },
     "execution_count": 32,
     "metadata": {},
     "output_type": "execute_result"
    }
   ],
   "source": [
    "df_central_log.shape"
   ]
  },
  {
   "cell_type": "code",
   "execution_count": 33,
   "metadata": {},
   "outputs": [
    {
     "data": {
      "text/plain": [
       "35390"
      ]
     },
     "execution_count": 33,
     "metadata": {},
     "output_type": "execute_result"
    }
   ],
   "source": [
    "np.count_nonzero(df_central_log['half_radius']) # this means that there are no size zero entries in TNG-SAM"
   ]
  },
  {
   "cell_type": "code",
   "execution_count": 34,
   "metadata": {},
   "outputs": [
    {
     "data": {
      "text/plain": [
       "35390"
      ]
     },
     "execution_count": 34,
     "metadata": {},
     "output_type": "execute_result"
    }
   ],
   "source": [
    "np.count_nonzero(df_central_log['mstar']) # this means that there are no stellar mass zero entries in TNG-SAM"
   ]
  },
  {
   "cell_type": "code",
   "execution_count": 35,
   "metadata": {},
   "outputs": [
    {
     "data": {
      "text/plain": [
       "35390"
      ]
     },
     "execution_count": 35,
     "metadata": {},
     "output_type": "execute_result"
    }
   ],
   "source": [
    "np.count_nonzero(df_central_log['mhalo'])"
   ]
  },
  {
   "cell_type": "code",
   "execution_count": 36,
   "metadata": {},
   "outputs": [
    {
     "data": {
      "text/plain": [
       "2.0902862818924777"
      ]
     },
     "execution_count": 36,
     "metadata": {},
     "output_type": "execute_result"
    }
   ],
   "source": [
    "df_central_log.SFR_log.max()"
   ]
  },
  {
   "cell_type": "code",
   "execution_count": 37,
   "metadata": {},
   "outputs": [
    {
     "data": {
      "text/plain": [
       "-9.442787629874614"
      ]
     },
     "execution_count": 37,
     "metadata": {},
     "output_type": "execute_result"
    }
   ],
   "source": [
    "df_central_log.SFR_log.min()"
   ]
  },
  {
   "cell_type": "markdown",
   "metadata": {},
   "source": [
    "### Normalize the dataset (dimensionless)"
   ]
  },
  {
   "cell_type": "code",
   "execution_count": 38,
   "metadata": {},
   "outputs": [
    {
     "data": {
      "text/plain": [
       "<bound method IndexOpsMixin.tolist of Index(['mhalo', 'spin', 'Cnfw', 'Mhot', 'Macc', 'mstar', 'mHI', 'mH2',\n",
       "       'mbulge', 'r_bulge', 'r_disk', 'sfr', 'Zcold', 'Zstar', 'sat_type',\n",
       "       'half_radius', 'mstar_log', 'half_radius_log', 'mhalo_log', 'Mhot_log',\n",
       "       'mbulge_log', 'SFR_log', 'neutral_H_mass', 'baryon_mass',\n",
       "       'gas_fraction'],\n",
       "      dtype='object')>"
      ]
     },
     "execution_count": 38,
     "metadata": {},
     "output_type": "execute_result"
    }
   ],
   "source": [
    "df_central_log.columns.to_list"
   ]
  },
  {
   "cell_type": "code",
   "execution_count": 39,
   "metadata": {},
   "outputs": [],
   "source": [
    "def normalization_func(df):\n",
    "    '''\n",
    "    Normalizes the dataset by dividing all masses by halo mass, and galaxy size by halo size\n",
    "\n",
    "    '''\n",
    "#     could also use the method below\n",
    "#     df_log_mass_filtered.loc[:,'GalpropNormMstar']=df_log_mass_filtered.loc[:,'GalpropMstar'].div(df_log_mass_filtered.HalopropMvir, axis=0)\n",
    "    \n",
    "    halomass=df.loc[:,'mhalo']\n",
    "#     halorad= df.loc[:,'GalpropRhalo']\n",
    "    \n",
    "#     df.loc[:,'GalpropNormHalfRadius']=df.loc[:,'GalpropHalfRadius']/halorad\n",
    "#     df.loc[:,'GalpropNormRhalo']=df.loc[:,'GalpropRhalo']/halorad\n",
    "\n",
    "    df.loc[:,'GalpropNormMstar']=df.loc[:,'mstar']/halomass\n",
    "#     df.loc[:,'GalpropNormMvir']=df.loc[:,'GalpropMvir']/halomass\n",
    "    df.loc[:,'HalopropNormMhot']=df.loc[:,'Mhot']/halomass\n",
    "    df.loc[:,'GalpropNormMbulge']=df.loc[:,'mbulge']/halomass\n",
    "    \n",
    "#     df.loc[:,'GalpropNormMBH']=df.loc[:,'GalpropMBH']/halomass\n",
    "    df.loc[:,'GalpropNormMH2']=df.loc[:,'mH2']/halomass\n",
    "    df.loc[:,'GalpropNormMHI']=df.loc[:,'mHI']/halomass\n",
    "#     df.loc[:,'GalpropNormMHII']=df.loc[:,'GalpropMHII']/halomass\n",
    "#     df.loc[:,'GalpropNormMcold']=df.loc[:,'GalpropMcold']/halomass\n",
    "#     df.loc[:,'GalpropNormMstar_merge']=df.loc[:,'GalpropMstar_merge']/halomass\n",
    "#     df.loc[:,'GalpropNormMstrip']=df.loc[:,'GalpropMstrip']/halomass\n",
    "    \n",
    "    return df"
   ]
  },
  {
   "cell_type": "code",
   "execution_count": 40,
   "metadata": {},
   "outputs": [],
   "source": [
    "df_central_normalized=normalization_func(df_central_log)"
   ]
  },
  {
   "cell_type": "code",
   "execution_count": 42,
   "metadata": {},
   "outputs": [
    {
     "data": {
      "text/plain": [
       "(35390, 30)"
      ]
     },
     "execution_count": 42,
     "metadata": {},
     "output_type": "execute_result"
    }
   ],
   "source": [
    "df_central_normalized.shape"
   ]
  },
  {
   "cell_type": "code",
   "execution_count": 44,
   "metadata": {},
   "outputs": [
    {
     "data": {
      "text/html": [
       "<div>\n",
       "<style scoped>\n",
       "    .dataframe tbody tr th:only-of-type {\n",
       "        vertical-align: middle;\n",
       "    }\n",
       "\n",
       "    .dataframe tbody tr th {\n",
       "        vertical-align: top;\n",
       "    }\n",
       "\n",
       "    .dataframe thead th {\n",
       "        text-align: right;\n",
       "    }\n",
       "</style>\n",
       "<table border=\"1\" class=\"dataframe\">\n",
       "  <thead>\n",
       "    <tr style=\"text-align: right;\">\n",
       "      <th></th>\n",
       "      <th>mhalo</th>\n",
       "      <th>spin</th>\n",
       "      <th>Cnfw</th>\n",
       "      <th>Mhot</th>\n",
       "      <th>Macc</th>\n",
       "      <th>mstar</th>\n",
       "      <th>mHI</th>\n",
       "      <th>mH2</th>\n",
       "      <th>mbulge</th>\n",
       "      <th>r_bulge</th>\n",
       "      <th>...</th>\n",
       "      <th>mbulge_log</th>\n",
       "      <th>SFR_log</th>\n",
       "      <th>neutral_H_mass</th>\n",
       "      <th>baryon_mass</th>\n",
       "      <th>gas_fraction</th>\n",
       "      <th>GalpropNormMstar</th>\n",
       "      <th>HalopropNormMhot</th>\n",
       "      <th>GalpropNormMbulge</th>\n",
       "      <th>GalpropNormMH2</th>\n",
       "      <th>GalpropNormMHI</th>\n",
       "    </tr>\n",
       "  </thead>\n",
       "  <tbody>\n",
       "    <tr>\n",
       "      <th>53</th>\n",
       "      <td>4.502510e+09</td>\n",
       "      <td>0.03378</td>\n",
       "      <td>59.129101</td>\n",
       "      <td>9.503960e+09</td>\n",
       "      <td>0.0</td>\n",
       "      <td>1.050790e+08</td>\n",
       "      <td>2.710510e-11</td>\n",
       "      <td>0.0</td>\n",
       "      <td>72604704.0</td>\n",
       "      <td>0.503721</td>\n",
       "      <td>...</td>\n",
       "      <td>7.860965</td>\n",
       "      <td>-3.395986</td>\n",
       "      <td>2.710510e-11</td>\n",
       "      <td>1.050790e+08</td>\n",
       "      <td>2.579497e-19</td>\n",
       "      <td>0.023338</td>\n",
       "      <td>2.110814</td>\n",
       "      <td>0.016125</td>\n",
       "      <td>0.000000</td>\n",
       "      <td>6.019998e-21</td>\n",
       "    </tr>\n",
       "    <tr>\n",
       "      <th>59</th>\n",
       "      <td>1.285310e+11</td>\n",
       "      <td>0.03407</td>\n",
       "      <td>21.878799</td>\n",
       "      <td>8.516240e+05</td>\n",
       "      <td>0.0</td>\n",
       "      <td>2.136860e+09</td>\n",
       "      <td>4.310100e+08</td>\n",
       "      <td>145516000.0</td>\n",
       "      <td>231256000.0</td>\n",
       "      <td>1.340100</td>\n",
       "      <td>...</td>\n",
       "      <td>8.364093</td>\n",
       "      <td>-0.994489</td>\n",
       "      <td>5.765260e+08</td>\n",
       "      <td>2.713386e+09</td>\n",
       "      <td>2.124747e-01</td>\n",
       "      <td>0.016625</td>\n",
       "      <td>0.000007</td>\n",
       "      <td>0.001799</td>\n",
       "      <td>0.001132</td>\n",
       "      <td>3.353355e-03</td>\n",
       "    </tr>\n",
       "  </tbody>\n",
       "</table>\n",
       "<p>2 rows × 30 columns</p>\n",
       "</div>"
      ],
      "text/plain": [
       "           mhalo     spin       Cnfw          Mhot  Macc         mstar  \\\n",
       "53  4.502510e+09  0.03378  59.129101  9.503960e+09   0.0  1.050790e+08   \n",
       "59  1.285310e+11  0.03407  21.878799  8.516240e+05   0.0  2.136860e+09   \n",
       "\n",
       "             mHI          mH2       mbulge   r_bulge  ...  mbulge_log  \\\n",
       "53  2.710510e-11          0.0   72604704.0  0.503721  ...    7.860965   \n",
       "59  4.310100e+08  145516000.0  231256000.0  1.340100  ...    8.364093   \n",
       "\n",
       "     SFR_log  neutral_H_mass   baryon_mass  gas_fraction  GalpropNormMstar  \\\n",
       "53 -3.395986    2.710510e-11  1.050790e+08  2.579497e-19          0.023338   \n",
       "59 -0.994489    5.765260e+08  2.713386e+09  2.124747e-01          0.016625   \n",
       "\n",
       "    HalopropNormMhot  GalpropNormMbulge  GalpropNormMH2  GalpropNormMHI  \n",
       "53          2.110814           0.016125        0.000000    6.019998e-21  \n",
       "59          0.000007           0.001799        0.001132    3.353355e-03  \n",
       "\n",
       "[2 rows x 30 columns]"
      ]
     },
     "execution_count": 44,
     "metadata": {},
     "output_type": "execute_result"
    }
   ],
   "source": [
    "df_central_normalized.head(2)"
   ]
  },
  {
   "cell_type": "markdown",
   "metadata": {},
   "source": [
    "### The final dataset"
   ]
  },
  {
   "cell_type": "code",
   "execution_count": 46,
   "metadata": {},
   "outputs": [
    {
     "data": {
      "text/plain": [
       "<bound method IndexOpsMixin.tolist of Index(['mhalo', 'spin', 'Cnfw', 'Mhot', 'Macc', 'mstar', 'mHI', 'mH2',\n",
       "       'mbulge', 'r_bulge', 'r_disk', 'sfr', 'Zcold', 'Zstar', 'sat_type',\n",
       "       'half_radius', 'mstar_log', 'half_radius_log', 'mhalo_log', 'Mhot_log',\n",
       "       'mbulge_log', 'SFR_log', 'neutral_H_mass', 'baryon_mass',\n",
       "       'gas_fraction', 'GalpropNormMstar', 'HalopropNormMhot',\n",
       "       'GalpropNormMbulge', 'GalpropNormMH2', 'GalpropNormMHI'],\n",
       "      dtype='object')>"
      ]
     },
     "execution_count": 46,
     "metadata": {},
     "output_type": "execute_result"
    }
   ],
   "source": [
    "df_central_log.columns.tolist"
   ]
  },
  {
   "cell_type": "code",
   "execution_count": 47,
   "metadata": {},
   "outputs": [],
   "source": [
    "df_central_log_pairplot = df_central_log.loc[:,[\"half_radius\", 'spin', 'sfr', \n",
    "                                                \"Cnfw\", 'Zcold', 'Zstar',\n",
    "                                                'GalpropNormMstar', 'HalopropNormMhot',\n",
    "                                                'GalpropNormMbulge', 'GalpropNormMH2', 'GalpropNormMHI']]"
   ]
  },
  {
   "cell_type": "code",
   "execution_count": 48,
   "metadata": {},
   "outputs": [
    {
     "data": {
      "text/plain": [
       "(35390, 11)"
      ]
     },
     "execution_count": 48,
     "metadata": {},
     "output_type": "execute_result"
    }
   ],
   "source": [
    "df_central_log_pairplot.shape"
   ]
  },
  {
   "cell_type": "code",
   "execution_count": 49,
   "metadata": {},
   "outputs": [],
   "source": [
    "# df_central_log_pairplot.to_csv('df_central_log_pairplot_10feat_v3.csv', index=False)"
   ]
  },
  {
   "cell_type": "code",
   "execution_count": 52,
   "metadata": {},
   "outputs": [],
   "source": [
    "df_central_log_pairplot = pd.read_csv ('df_central_log_pairplot_10feat_v3.csv') # df here read from the csv in previous line"
   ]
  },
  {
   "cell_type": "code",
   "execution_count": 53,
   "metadata": {},
   "outputs": [
    {
     "data": {
      "text/html": [
       "<div>\n",
       "<style scoped>\n",
       "    .dataframe tbody tr th:only-of-type {\n",
       "        vertical-align: middle;\n",
       "    }\n",
       "\n",
       "    .dataframe tbody tr th {\n",
       "        vertical-align: top;\n",
       "    }\n",
       "\n",
       "    .dataframe thead th {\n",
       "        text-align: right;\n",
       "    }\n",
       "</style>\n",
       "<table border=\"1\" class=\"dataframe\">\n",
       "  <thead>\n",
       "    <tr style=\"text-align: right;\">\n",
       "      <th></th>\n",
       "      <th>half_radius</th>\n",
       "      <th>spin</th>\n",
       "      <th>sfr</th>\n",
       "      <th>Cnfw</th>\n",
       "      <th>Zcold</th>\n",
       "      <th>Zstar</th>\n",
       "      <th>GalpropNormMstar</th>\n",
       "      <th>HalopropNormMhot</th>\n",
       "      <th>GalpropNormMbulge</th>\n",
       "      <th>GalpropNormMH2</th>\n",
       "      <th>GalpropNormMHI</th>\n",
       "    </tr>\n",
       "  </thead>\n",
       "  <tbody>\n",
       "    <tr>\n",
       "      <th>0</th>\n",
       "      <td>0.829693</td>\n",
       "      <td>0.03378</td>\n",
       "      <td>0.000402</td>\n",
       "      <td>59.1291</td>\n",
       "      <td>0.000008</td>\n",
       "      <td>0.004245</td>\n",
       "      <td>0.023338</td>\n",
       "      <td>2.110814</td>\n",
       "      <td>0.016125</td>\n",
       "      <td>0.000000</td>\n",
       "      <td>6.019997e-21</td>\n",
       "    </tr>\n",
       "    <tr>\n",
       "      <th>1</th>\n",
       "      <td>2.332662</td>\n",
       "      <td>0.03407</td>\n",
       "      <td>0.101277</td>\n",
       "      <td>21.8788</td>\n",
       "      <td>0.206532</td>\n",
       "      <td>0.485612</td>\n",
       "      <td>0.016625</td>\n",
       "      <td>0.000007</td>\n",
       "      <td>0.001799</td>\n",
       "      <td>0.001132</td>\n",
       "      <td>3.353354e-03</td>\n",
       "    </tr>\n",
       "  </tbody>\n",
       "</table>\n",
       "</div>"
      ],
      "text/plain": [
       "   half_radius     spin       sfr     Cnfw     Zcold     Zstar  \\\n",
       "0     0.829693  0.03378  0.000402  59.1291  0.000008  0.004245   \n",
       "1     2.332662  0.03407  0.101277  21.8788  0.206532  0.485612   \n",
       "\n",
       "   GalpropNormMstar  HalopropNormMhot  GalpropNormMbulge  GalpropNormMH2  \\\n",
       "0          0.023338          2.110814           0.016125        0.000000   \n",
       "1          0.016625          0.000007           0.001799        0.001132   \n",
       "\n",
       "   GalpropNormMHI  \n",
       "0    6.019997e-21  \n",
       "1    3.353354e-03  "
      ]
     },
     "execution_count": 53,
     "metadata": {},
     "output_type": "execute_result"
    }
   ],
   "source": [
    "df_central_log_pairplot.head(2)"
   ]
  },
  {
   "cell_type": "code",
   "execution_count": null,
   "metadata": {},
   "outputs": [],
   "source": []
  }
 ],
 "metadata": {
  "kernelspec": {
   "display_name": "native",
   "language": "python",
   "name": "native"
  },
  "language_info": {
   "codemirror_mode": {
    "name": "ipython",
    "version": 3
   },
   "file_extension": ".py",
   "mimetype": "text/x-python",
   "name": "python",
   "nbconvert_exporter": "python",
   "pygments_lexer": "ipython3",
   "version": "3.9.7"
  }
 },
 "nbformat": 4,
 "nbformat_minor": 4
}
